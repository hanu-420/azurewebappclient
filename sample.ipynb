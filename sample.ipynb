{
 "cells": [
  {
   "metadata": {},
   "cell_type": "code",
   "outputs": [],
   "execution_count": null,
   "source": "",
   "id": "e0539d7920702030"
  },
  {
   "metadata": {},
   "cell_type": "code",
   "outputs": [],
   "execution_count": null,
   "source": "",
   "id": "52d7521b72bfab39"
  },
  {
   "metadata": {},
   "cell_type": "code",
   "outputs": [],
   "execution_count": null,
   "source": "",
   "id": "2dc1a95da414781"
  },
  {
   "metadata": {},
   "cell_type": "markdown",
   "source": "",
   "id": "6cd2a45d6f18130"
  }
 ],
 "metadata": {},
 "nbformat": 5,
 "nbformat_minor": 9
}
